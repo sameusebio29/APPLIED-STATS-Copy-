{
  "nbformat": 4,
  "nbformat_minor": 0,
  "metadata": {
    "colab": {
      "provenance": []
    },
    "kernelspec": {
      "name": "python3",
      "display_name": "Python 3"
    },
    "language_info": {
      "name": "python"
    }
  },
  "cells": [
    {
      "cell_type": "code",
      "execution_count": 1,
      "metadata": {
        "colab": {
          "base_uri": "https://localhost:8080/"
        },
        "id": "HOQ9anGrq8UM",
        "outputId": "ce44c4a4-b336-434f-b416-aa9d0e27c7e0"
      },
      "outputs": [
        {
          "output_type": "stream",
          "name": "stdout",
          "text": [
            "hello world!\n"
          ]
        }
      ],
      "source": [
        "print('hello world!') #My very first Python code"
      ]
    },
    {
      "cell_type": "code",
      "source": [
        "#Python Data Types\n",
        "#1. Numbers\n",
        "#2. Strings\n",
        "#Integers and Float"
      ],
      "metadata": {
        "id": "P2iT9ZMDsCUu"
      },
      "execution_count": 7,
      "outputs": []
    },
    {
      "cell_type": "code",
      "source": [
        "#Integer (int)\n",
        "x = 1\n",
        "y = 2\n",
        "print(x + y)"
      ],
      "metadata": {
        "colab": {
          "base_uri": "https://localhost:8080/"
        },
        "id": "ma0IVHPAsKaR",
        "outputId": "3b073197-35b2-43fa-bd5a-3d189d4f9ca3"
      },
      "execution_count": 5,
      "outputs": [
        {
          "output_type": "stream",
          "name": "stdout",
          "text": [
            "3\n"
          ]
        }
      ]
    },
    {
      "cell_type": "code",
      "source": [
        "#Float\n",
        "x = 1.5\n",
        "y = 2.0\n",
        "print(x + y)"
      ],
      "metadata": {
        "colab": {
          "base_uri": "https://localhost:8080/"
        },
        "id": "0cUqBoBhsP1h",
        "outputId": "e46ef246-42f2-497c-fb76-48fb7b920aca"
      },
      "execution_count": 6,
      "outputs": [
        {
          "output_type": "stream",
          "name": "stdout",
          "text": [
            "3.5\n"
          ]
        }
      ]
    },
    {
      "cell_type": "code",
      "source": [
        "#Strings\n",
        "x = 'Hello'\n",
        "y = 'World'\n",
        "print(x + y)"
      ],
      "metadata": {
        "colab": {
          "base_uri": "https://localhost:8080/"
        },
        "id": "JMBlChMXsdus",
        "outputId": "c06877cf-e5e3-4d6e-9658-176c9aecb964"
      },
      "execution_count": 8,
      "outputs": [
        {
          "output_type": "stream",
          "name": "stdout",
          "text": [
            "HelloWorld\n"
          ]
        }
      ]
    },
    {
      "cell_type": "code",
      "source": [
        "print('My name is Sammy') #Single Quotation Mark"
      ],
      "metadata": {
        "colab": {
          "base_uri": "https://localhost:8080/"
        },
        "id": "VpqArou3s16f",
        "outputId": "ee77c9dd-d572-482a-a28d-a5ee15b20a7c"
      },
      "execution_count": 9,
      "outputs": [
        {
          "output_type": "stream",
          "name": "stdout",
          "text": [
            "My name is Sammy\n"
          ]
        }
      ]
    },
    {
      "cell_type": "code",
      "source": [
        "print(\"My name is Sammy\") #Double Quotation Mark"
      ],
      "metadata": {
        "colab": {
          "base_uri": "https://localhost:8080/"
        },
        "id": "VXvJt92Ms9Dp",
        "outputId": "a1558d05-7ff6-446a-ed98-42619a38f197"
      },
      "execution_count": 10,
      "outputs": [
        {
          "output_type": "stream",
          "name": "stdout",
          "text": [
            "My name is Sammy\n"
          ]
        }
      ]
    },
    {
      "cell_type": "code",
      "source": [
        "x = '123456'\n",
        "y = 123456\n",
        "z = 7890.00\n",
        "print('This is a string', x)\n",
        "print(\"This is an integer\", y)\n",
        "print('This is a float', z)"
      ],
      "metadata": {
        "colab": {
          "base_uri": "https://localhost:8080/"
        },
        "id": "r9_2AXQWtDlv",
        "outputId": "1703b0b8-8810-46c2-84fb-aa9ce51a0805"
      },
      "execution_count": 16,
      "outputs": [
        {
          "output_type": "stream",
          "name": "stdout",
          "text": [
            "This is a string 123456\n",
            "This is an integer 123456\n",
            "This is a float 7890.0\n"
          ]
        }
      ]
    },
    {
      "cell_type": "code",
      "source": [
        "#\\n (for spacing)\n",
        "print('Samantha \\nMarie')\n",
        "print('Abarca \\nEusebio')"
      ],
      "metadata": {
        "colab": {
          "base_uri": "https://localhost:8080/"
        },
        "id": "LVpZljHSt0KP",
        "outputId": "1b3dc7ee-2ee8-4337-d46f-3de0a915e775"
      },
      "execution_count": 20,
      "outputs": [
        {
          "output_type": "stream",
          "name": "stdout",
          "text": [
            "Samantha \n",
            "Marie\n",
            "Abarca \n",
            "Eusebio\n"
          ]
        }
      ]
    },
    {
      "cell_type": "code",
      "source": [
        "#Mathematical Operators\n",
        "#Addition (+)\n",
        "#Substraction (-)\n",
        "#Multiplication (*)\n",
        "#Division (/)\n",
        "#Modulo Operator (%)\n",
        "#Exponential (**)\n",
        "#Floor Division (//)\n",
        "\n",
        "a = 2\n",
        "b = 3\n",
        "print(a+b) #Addition\n",
        "print(a-b) #Substraction\n",
        "print(a*b) #Multiplication\n",
        "print(a/b) #Division\n",
        "\n",
        "x = 9\n",
        "y =  4\n",
        "print(9 % 4) #Modulo Operator\n",
        "\n",
        "print(x ** 2)\n",
        "print(2 **3) #Exponential"
      ],
      "metadata": {
        "colab": {
          "base_uri": "https://localhost:8080/"
        },
        "id": "ZwRmo7lPueZl",
        "outputId": "9fb00ffd-0e2d-434f-a232-bbb14f95ec5d"
      },
      "execution_count": 26,
      "outputs": [
        {
          "output_type": "stream",
          "name": "stdout",
          "text": [
            "5\n",
            "-1\n",
            "6\n",
            "0.6666666666666666\n",
            "1\n",
            "81\n",
            "8\n"
          ]
        }
      ]
    },
    {
      "cell_type": "code",
      "source": [
        "print(9 / 5) #Division\n",
        "print(9 // 5) #Floor Division"
      ],
      "metadata": {
        "colab": {
          "base_uri": "https://localhost:8080/"
        },
        "id": "1CVRr2t_vR_F",
        "outputId": "0935b122-5f6a-4e5e-8ceb-bf32ae13d771"
      },
      "execution_count": 27,
      "outputs": [
        {
          "output_type": "stream",
          "name": "stdout",
          "text": [
            "1.8\n",
            "1\n"
          ]
        }
      ]
    },
    {
      "cell_type": "code",
      "source": [
        "#Comparison Operators\n",
        "# Less than (<)\n",
        "# Greater Than (>)\n",
        "# Equal to (==)\n",
        "# Not Equal to (!=)\n",
        "# Greater than or Equal to (>=)\n",
        "# Less than or Equal to (<=)\n",
        "# Output results to Boolean Values (True or False)\n",
        "\n",
        "x = 10\n",
        "y = 5\n",
        "\n",
        "print(x < y)\n",
        "print(x > y)"
      ],
      "metadata": {
        "colab": {
          "base_uri": "https://localhost:8080/"
        },
        "id": "CNi45J55wsoG",
        "outputId": "80699922-dc1d-4fea-97df-192b24748445"
      },
      "execution_count": 39,
      "outputs": [
        {
          "output_type": "stream",
          "name": "stdout",
          "text": [
            "False\n",
            "True\n",
            "\n"
          ]
        }
      ]
    },
    {
      "cell_type": "code",
      "source": [
        "# Boolean Operators\n",
        "# or\n",
        "# and\n",
        "# not\n",
        "\n",
        "print(x or y)\n",
        "print(x and y)\n",
        "print(x, not y)"
      ],
      "metadata": {
        "colab": {
          "base_uri": "https://localhost:8080/"
        },
        "id": "-vkjt1SJxd0d",
        "outputId": "17a878bc-9cd0-42b5-dc53-f66e2650f006"
      },
      "execution_count": 38,
      "outputs": [
        {
          "output_type": "stream",
          "name": "stdout",
          "text": [
            "10\n",
            "5\n",
            "10 False\n"
          ]
        }
      ]
    },
    {
      "cell_type": "code",
      "source": [
        "# Looping\n",
        "\n",
        "x = 5\n",
        "\n",
        "if x == 10:\n",
        "  print('Equal to')\n",
        "else:\n",
        "  print('Less than')"
      ],
      "metadata": {
        "colab": {
          "base_uri": "https://localhost:8080/"
        },
        "id": "7IG8LrrPyvNT",
        "outputId": "e66827d5-6522-4a7d-b7e7-d45d7f5feba1"
      },
      "execution_count": 40,
      "outputs": [
        {
          "output_type": "stream",
          "name": "stdout",
          "text": [
            "Less than\n"
          ]
        }
      ]
    },
    {
      "cell_type": "code",
      "source": [
        "# Assignment of Variables\n",
        "\n",
        "# Strings\n",
        "name = 'Samantha'\n",
        "surname = 'Eusebio'\n",
        "print(name + surname)\n",
        "\n",
        "# Numbers\n",
        "hours = 8\n",
        "score = 90\n",
        "print(hours)\n",
        "print(score)\n",
        "\n",
        "# Naming Variable (always use small cap)\n",
        "\n",
        "name = 'Lalisa'\n",
        "unitPrice = 100\n",
        "unit_price = 200"
      ],
      "metadata": {
        "colab": {
          "base_uri": "https://localhost:8080/"
        },
        "id": "f4yXY6iqzQQd",
        "outputId": "5d6facb8-e7ba-42f3-8860-b24df73a913b"
      },
      "execution_count": 50,
      "outputs": [
        {
          "output_type": "stream",
          "name": "stdout",
          "text": [
            "SamanthaEusebio\n",
            "8\n",
            "90\n"
          ]
        }
      ]
    },
    {
      "cell_type": "code",
      "source": [
        "f_name = 'Lalisa'\n",
        "l_name = 'Manoban'\n",
        "age = 23\n",
        "\n",
        "print(f'My name is {f_name} {l_name} and I am {age} years old')"
      ],
      "metadata": {
        "colab": {
          "base_uri": "https://localhost:8080/"
        },
        "id": "kdYMzOD_zspx",
        "outputId": "f3738070-5bad-4107-fc9b-23db9615236f"
      },
      "execution_count": 52,
      "outputs": [
        {
          "output_type": "stream",
          "name": "stdout",
          "text": [
            "My name is Lalisa Manoban and I am 23 years old\n"
          ]
        }
      ]
    },
    {
      "cell_type": "code",
      "source": [
        "#Built-in Functions\n",
        "#type() to know the data type\n",
        "#Rounding off round ()\n",
        "\n",
        "x = 9 #Integer\n",
        "y = 8.78999 #float\n",
        "z = 'Sammy' #string\n",
        "\n",
        "type(x)\n",
        "\n",
        "round(y, 3)"
      ],
      "metadata": {
        "colab": {
          "base_uri": "https://localhost:8080/"
        },
        "id": "LlR_ocnV1SvV",
        "outputId": "1d357839-d500-439b-eb1c-b3bbc09fe7fa"
      },
      "execution_count": 65,
      "outputs": [
        {
          "output_type": "execute_result",
          "data": {
            "text/plain": [
              "8.79"
            ]
          },
          "metadata": {},
          "execution_count": 65
        }
      ]
    },
    {
      "cell_type": "code",
      "source": [],
      "metadata": {
        "id": "1OKe3fVv1it7"
      },
      "execution_count": null,
      "outputs": []
    }
  ]
}